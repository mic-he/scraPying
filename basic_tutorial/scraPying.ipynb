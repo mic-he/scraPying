{
 "cells": [
  {
   "cell_type": "markdown",
   "metadata": {},
   "source": [
    "# Web scraping with Python: getting started"
   ]
  },
  {
   "cell_type": "markdown",
   "metadata": {},
   "source": [
    "## Introduction\n",
    "\n",
    "This tutorial is a quick introduction to web scraping with Python. It covers:\n",
    "\n",
    "- basics: we use requests and beautifulsoup4 (pip install...)\n",
    "- scraping from simple html webpages\n",
    "- scraping from paginated results"
   ]
  },
  {
   "cell_type": "markdown",
   "metadata": {},
   "source": [
    "Obligatory disclaimer: the website's owner might not want you to scrape their contents.\n",
    "\n",
    "Always take a look at the robots.txt file, found in the \"root\" directory of the majority of websites."
   ]
  },
  {
   "cell_type": "markdown",
   "metadata": {},
   "source": [
    "For example, it.wikipedia.org/robots.txt looks like this:\n",
    "![title](img/robotstxt.png)"
   ]
  },
  {
   "cell_type": "markdown",
   "metadata": {},
   "source": [
    "## Scraping a simple webpage"
   ]
  },
  {
   "cell_type": "markdown",
   "metadata": {},
   "source": [
    "Assuming we're not violating the website's rules, we can download pretty much everything we want.\n",
    "\n",
    "Therefore, let's download the list of every trap artist, according to Italian Wikipedia. It can be found at the url:\n",
    "\n",
    "https://it.wikipedia.org/wiki/Categoria:Cantanti_trap\n",
    "\n",
    "it looks like this:"
   ]
  },
  {
   "cell_type": "markdown",
   "metadata": {},
   "source": [
    "![title](img/trappers.png)"
   ]
  },
  {
   "cell_type": "markdown",
   "metadata": {},
   "source": [
    "With such a simple page, we could just copy-paste the wanted text then clean it. The advantage of scraping the text from the html is that 1) we learn the basics of web scraping and 2) the result is (moslty) already clean and for example it can be immediately saved as a textfile or manipulated with pandas."
   ]
  },
  {
   "cell_type": "markdown",
   "metadata": {},
   "source": [
    "First of all, we need to import requests and beautifulsoup4:"
   ]
  },
  {
   "cell_type": "code",
   "execution_count": 1,
   "metadata": {},
   "outputs": [],
   "source": [
    "import requests # to make http call and donwload html sources; use the following settings:\n",
    "headers = requests.utils.default_headers()\n",
    "headers['User-Agent'] = 'Mozilla/5.0 (X11; Linux x86_64) AppleWebKit/537.36 (KHTML, like Gecko) Chrome/56.0.2924.87 Safari/537.36'\n",
    "\n",
    "from bs4 import BeautifulSoup as bs # to navigate the downloaded html and extract relevant information\n",
    "\n",
    "import re # regular expressions in python\n",
    "\n",
    "import random # generate random integers\n",
    "\n",
    "import time # used to wait some time between http requests"
   ]
  },
  {
   "cell_type": "markdown",
   "metadata": {},
   "source": [
    "Next, we make the http call to the url, which results in a request object:"
   ]
  },
  {
   "cell_type": "code",
   "execution_count": 2,
   "metadata": {},
   "outputs": [
    {
     "name": "stdout",
     "output_type": "stream",
     "text": [
      "<Response [200]>\n"
     ]
    }
   ],
   "source": [
    "url = \"https://it.wikipedia.org/wiki/Categoria:Cantanti_trap\" # urls are just strings\n",
    "\n",
    "r = requests.get(url, headers = headers) # using the headers specified above\n",
    "\n",
    "print(r)"
   ]
  },
  {
   "cell_type": "markdown",
   "metadata": {},
   "source": [
    "Response 200 means everything's OK. Other kinds of responses (less OK) include 404 \"Not Found\" and 503 \"Service Unavailable\".\n",
    "\n",
    "The response object has a text method, which shows the text downloaded with the request:"
   ]
  },
  {
   "cell_type": "code",
   "execution_count": 3,
   "metadata": {},
   "outputs": [
    {
     "name": "stdout",
     "output_type": "stream",
     "text": [
      "<!DOCTYPE html>\n",
      "<html class=\"client-nojs\" lang=\"it\" dir=\"ltr\">\n",
      "<head>\n",
      "<meta charset=\"UTF-8\"/>\n",
      "<title>Categoria:Cantanti trap - Wikipedia</title>\n",
      "<script>document.documentElement.className=\"client-js\";RLCONF={\"wgBreakFrames\":!1,\"wgSeparatorTransformTable\":[\",\\t.\",\" \\t,\"],\"wgDigitTransformTable\":[\"\",\"\"],\"wgDefaultDateFormat\":\"dmy\",\"wgMonthNames\":[\"\",\"gennaio\",\"febbraio\",\"marzo\",\"aprile\",\"maggio\",\"giugno\",\"luglio\",\"agosto\",\"settembre\",\"ottobre\",\"novembre\",\"dicembre\"],\"wgMonthNamesShort\":[\"\",\"gen\",\"feb\",\"mar\",\"apr\",\"mag\",\"giu\",\"lug\",\"ago\",\"set\",\"ott\",\"nov\",\"dic\"],\"wgRequestId\":\"XigKXApAMFcAAJb-@84AAAAA\",\"wgCSPNonce\":!1,\"wgCanonicalNamespace\":\"Category\",\"wgCanonicalSpecialPageName\":!1,\"wgNamespaceNumber\":14,\"wgPageName\":\"Categoria:Cantanti_trap\",\"wgTitle\":\"Cantanti trap\",\"wgCurRevisionId\":107757064,\"wgRevisionId\":107757064,\"wgArticleId\":5439423,\"wgIsArticle\":!0,\"wgIsRedirect\":!1,\"wgAction\":\"view\",\"wgUserName\":null,\"wgUserGroups\":[\"*\"],\"wgCategories\":[\"Cantanti hip hop\",\"Musicisti trap\"],\"wg\n"
     ]
    }
   ],
   "source": [
    "print(r.text[0:1000])"
   ]
  },
  {
   "cell_type": "markdown",
   "metadata": {},
   "source": [
    "Next, we need to parse this text with bs4, to make the html tags easy to navitage and their contents easy to access:"
   ]
  },
  {
   "cell_type": "code",
   "execution_count": 4,
   "metadata": {},
   "outputs": [
    {
     "name": "stdout",
     "output_type": "stream",
     "text": [
      "\n",
      "\n",
      "\n",
      "Categoria:Cantanti trap - Wikipedia\n",
      "document.documentElement.className=\"client-js\";RLCONF={\"wgBreakFrames\":!1,\"wgSeparatorTransformTable\":[\",\\t.\",\" \\t,\"],\"wgDigitTransformTable\":[\"\",\"\"],\"wgDefaultDateFormat\":\"dmy\",\"wgMonthNames\":[\"\",\"gennaio\",\"febbraio\",\"marzo\",\"aprile\",\"maggio\",\"giugno\",\"luglio\",\"agosto\",\"settembre\",\"ottobre\",\"novembre\",\"dicembre\"],\"wgMonthNamesShort\":[\"\",\"gen\",\"feb\",\"mar\",\"apr\",\"mag\",\"giu\",\"lug\",\"ago\",\"set\",\"ott\",\"nov\",\"dic\"],\"wgRequestId\":\"XigKXApAMFcAAJb-@84AAAAA\",\"wgCSPNonce\":!1,\"wgCanonicalNamespace\":\"Category\",\"wgCanonicalSpecialPageName\":!1,\"wgNamespaceNumber\":14,\"wgPageName\":\"Categoria:Cantanti_trap\",\"wgTitle\":\"Cantanti trap\",\"wgCurRevisionId\":107757064,\"wgRevisionId\":107757064,\"wgArticleId\":5439423,\"wgIsArticle\":!0,\"wgIsRedirect\":!1,\"wgAction\":\"view\",\"wgUserName\":null,\"wgUserGroups\":[\"*\"],\"wgCategories\":[\"Cantanti hip hop\",\"Musicisti trap\"],\"wgPageContentLanguage\":\"it\",\"wgPageContentModel\":\"wikitext\",\"wgRelevantPageName\":\"Categoria:Cantanti_trap\",\"wgReleva\n"
     ]
    }
   ],
   "source": [
    "soup = bs(r.text, \"lxml\") # soupify i.e. make tag soup easy to navigate, using the lxml parser\n",
    "\n",
    "print(soup.text[0:1000])"
   ]
  },
  {
   "cell_type": "markdown",
   "metadata": {},
   "source": [
    "It looks exactly the same!\n",
    "\n",
    "What's the difference? The first is pure text. It can be manipulated with regular expressions, e.g. to remove the html tags and extract the desired information, but good luck with that.\n",
    "\n",
    "The second is a  more complex object, with a series of useful associated methods to navigate the html tags."
   ]
  },
  {
   "cell_type": "markdown",
   "metadata": {},
   "source": [
    "For example, suppose we want to extract the title of the page:"
   ]
  },
  {
   "cell_type": "code",
   "execution_count": 5,
   "metadata": {},
   "outputs": [
    {
     "data": {
      "text/plain": [
       "<title>Categoria:Cantanti trap - Wikipedia</title>"
      ]
     },
     "execution_count": 5,
     "metadata": {},
     "output_type": "execute_result"
    }
   ],
   "source": [
    "soup.find('title') # find method yield the first found occurrence"
   ]
  },
  {
   "cell_type": "markdown",
   "metadata": {},
   "source": [
    "Next, how do we know which tags contain the desired information?\n",
    "\n",
    "We can inspect the html source:\n",
    "\n",
    "(on google chrome, ctrl+shift+I opens the source inspector)"
   ]
  },
  {
   "cell_type": "markdown",
   "metadata": {},
   "source": [
    "![title](img/inspect.png)"
   ]
  },
  {
   "cell_type": "markdown",
   "metadata": {},
   "source": [
    "The names of the artists appear as text inside a-tags.\n",
    "\n",
    "The method findAll will yield all the a-tags found in the soup."
   ]
  },
  {
   "cell_type": "code",
   "execution_count": 6,
   "metadata": {
    "scrolled": true
   },
   "outputs": [
    {
     "name": "stdout",
     "output_type": "stream",
     "text": [
      "[<a id=\"top\"></a>, <a class=\"mw-helplink\" href=\"/wiki/Aiuto:Categorie\" target=\"_blank\">Aiuto</a>, <a class=\"mw-jump-link\" href=\"#mw-head\">Jump to navigation</a>, <a class=\"mw-jump-link\" href=\"#p-search\">Jump to search</a>, <a href=\"/wiki/Cantante\" title=\"Cantante\">cantanti</a>, <a href=\"/wiki/Trap_(genere_musicale)\" title=\"Trap (genere musicale)\">trap</a>, <a href=\"/wiki/Categoria:Cantanti_per_nazionalit%C3%A0\" title=\"Categoria:Cantanti per nazionalità\">Cantanti per nazionalità</a>, <a href=\"/wiki/Categoria:Cantanti_per_genere\" title=\"Categoria:Cantanti per genere\">Cantanti per genere (tutti)</a>, <a href=\"/wiki/Categoria:Gruppi_musicali_trap\" title=\"Categoria:Gruppi musicali trap\">Gruppi musicali trap</a>, <a href=\"/wiki/Categoria:Musicisti_trap\" title=\"Categoria:Musicisti trap\">Musicisti trap</a>, <a href=\"/wiki/Categoria:Disc_jockey_trap\" title=\"Categoria:Disc jockey trap\">Disc jockey trap</a>, <a href=\"/wiki/Categoria:Album_trap\" title=\"Categoria:Album trap\">Album trap</a>, <a href=\"/wiki/Categoria:EP_trap\" title=\"Categoria:EP trap\">EP trap</a>, <a href=\"/wiki/Categoria:Singoli_trap\" title=\"Categoria:Singoli trap\">Singoli trap</a>, <a class=\"new\" href=\"/w/index.php?title=Categoria:Album_video_trap&amp;action=edit&amp;redlink=1\" title=\"Categoria:Album video trap (la pagina non esiste)\">Album video trap</a>, <a href=\"/wiki/Categoria:Brani_musicali_trap\" title=\"Categoria:Brani musicali trap\">Brani musicali trap</a>, <a href=\"/wiki/6ix9ine\" title=\"6ix9ine\">6ix9ine</a>, <a href=\"/wiki/21_Savage\" title=\"21 Savage\">21 Savage</a>, <a href=\"/wiki/Anuel_AA\" title=\"Anuel AA\">Anuel AA</a>, <a href=\"/wiki/ASAP_Ferg\" title=\"ASAP Ferg\">ASAP Ferg</a>, <a href=\"/wiki/Bad_Bunny\" title=\"Bad Bunny\">Bad Bunny</a>, <a href=\"/wiki/Belly_(rapper)\" title=\"Belly (rapper)\">Belly (rapper)</a>, <a href=\"/wiki/Bhad_Bhabie\" title=\"Bhad Bhabie\">Bhad Bhabie</a>, <a href=\"/wiki/Birdman_(rapper)\" title=\"Birdman (rapper)\">Birdman (rapper)</a>, <a href=\"/wiki/Lele_Blade\" title=\"Lele Blade\">Lele Blade</a>, <a href=\"/wiki/Booba_(rapper)\" title=\"Booba (rapper)\">Booba (rapper)</a>, <a href=\"/wiki/Quando_Rondo\" title=\"Quando Rondo\">Quando Rondo</a>, <a href=\"/wiki/Maikel_Delacalle\" title=\"Maikel Delacalle\">Maikel Delacalle</a>, <a href=\"/wiki/Capo_Plaza\" title=\"Capo Plaza\">Capo Plaza</a>, <a href=\"/wiki/Cardi_B\" title=\"Cardi B\">Cardi B</a>, <a href=\"/wiki/Chanmina\" title=\"Chanmina\">Chanmina</a>, <a href=\"/wiki/Chief_Keef\" title=\"Chief Keef\">Chief Keef</a>, <a href=\"/wiki/CL_(cantante)\" title=\"CL (cantante)\">CL (cantante)</a>, <a href=\"/wiki/Comethazine\" title=\"Comethazine\">Comethazine</a>, <a href=\"/wiki/DaBaby\" title=\"DaBaby\">DaBaby</a>, <a href=\"/wiki/Dej_Loaf\" title=\"Dej Loaf\">Dej Loaf</a>, <a href=\"/wiki/DJ_Paul\" title=\"DJ Paul\">DJ Paul</a>, <a href=\"/wiki/Doja_Cat\" title=\"Doja Cat\">Doja Cat</a>, <a href=\"/wiki/Famous_Dex\" title=\"Famous Dex\">Famous Dex</a>, <a href=\"/wiki/Fetty_Wap\" title=\"Fetty Wap\">Fetty Wap</a>, <a href=\"/wiki/Frauenarzt\" title=\"Frauenarzt\">Frauenarzt</a>, <a href=\"/wiki/Future_(rapper)\" title=\"Future (rapper)\">Future (rapper)</a>, <a href=\"/wiki/Ghali_(rapper)\" title=\"Ghali (rapper)\">Ghali (rapper)</a>, <a href=\"/wiki/GionnyScandal\" title=\"GionnyScandal\">GionnyScandal</a>, <a href=\"/wiki/Gradur\" title=\"Gradur\">Gradur</a>, <a href=\"/wiki/Gucci_Mane\" title=\"Gucci Mane\">Gucci Mane</a>, <a href=\"/wiki/Haftbefehl\" title=\"Haftbefehl\">Haftbefehl</a>, <a href=\"/wiki/Jhay_Cortez\" title=\"Jhay Cortez\">Jhay Cortez</a>, <a href=\"/wiki/Jon_Z\" title=\"Jon Z\">Jon Z</a>, <a href=\"/wiki/Juice_Wrld\" title=\"Juice Wrld\">Juice Wrld</a>, <a href=\"/wiki/Juicy_J\" title=\"Juicy J\">Juicy J</a>, <a href=\"/wiki/Kaaris\" title=\"Kaaris\">Kaaris</a>, <a href=\"/wiki/Kalash_(rapper)\" title=\"Kalash (rapper)\">Kalash (rapper)</a>, <a href=\"/wiki/Keith_Ape\" title=\"Keith Ape\">Keith Ape</a>, <a href=\"/wiki/Ketama126\" title=\"Ketama126\">Ketama126</a>, <a href=\"/wiki/Wiz_Khalifa\" title=\"Wiz Khalifa\">Wiz Khalifa</a>, <a href=\"/wiki/Kid_Kaze\" title=\"Kid Kaze\">Kid Kaze</a>, <a href=\"/wiki/Kodak_Black\" title=\"Kodak Black\">Kodak Black</a>, <a href=\"/wiki/Lacrim\" title=\"Lacrim\">Lacrim</a>, <a href=\"/wiki/La%C3%AFoung\" title=\"Laïoung\">Laïoung</a>, <a href=\"/wiki/Elettra_Lamborghini\" title=\"Elettra Lamborghini\">Elettra Lamborghini</a>, <a href=\"/wiki/Lazza\" title=\"Lazza\">Lazza</a>, <a href=\"/wiki/Lil_B\" title=\"Lil B\">Lil B</a>, <a href=\"/wiki/Lil_Baby\" title=\"Lil Baby\">Lil Baby</a>, <a href=\"/wiki/Lil_Nas_X\" title=\"Lil Nas X\">Lil Nas X</a>, <a href=\"/wiki/Lil_Pump\" title=\"Lil Pump\">Lil Pump</a>, <a href=\"/wiki/Lil_Reese\" title=\"Lil Reese\">Lil Reese</a>, <a href=\"/wiki/Lil_Skies\" title=\"Lil Skies\">Lil Skies</a>, <a href=\"/wiki/Lil_Tecca\" title=\"Lil Tecca\">Lil Tecca</a>, <a href=\"/wiki/Lil_Uzi_Vert\" title=\"Lil Uzi Vert\">Lil Uzi Vert</a>, <a href=\"/wiki/Lil_Wayne\" title=\"Lil Wayne\">Lil Wayne</a>, <a href=\"/wiki/Lil_Yachty\" title=\"Lil Yachty\">Lil Yachty</a>, <a href=\"/wiki/Lola_%C3%8Dndigo\" title=\"Lola Índigo\">Lola Índigo</a>, <a href=\"/wiki/Lord_Infamous\" title=\"Lord Infamous\">Lord Infamous</a>, <a href=\"/wiki/Lunay_(cantante)\" title=\"Lunay (cantante)\">Lunay (cantante)</a>, <a href=\"/wiki/MadeinTYO\" title=\"MadeinTYO\">MadeinTYO</a>, <a href=\"/wiki/MC_Mack\" title=\"MC Mack\">MC Mack</a>, <a href=\"/wiki/Meek_Mill\" title=\"Meek Mill\">Meek Mill</a>, <a href=\"/wiki/Stella_Mwangi\" title=\"Stella Mwangi\">Stella Mwangi</a>, <a href=\"/wiki/Niska\" title=\"Niska\">Niska</a>, <a href=\"/wiki/NLE_Choppa\" title=\"NLE Choppa\">NLE Choppa</a>, <a href=\"/wiki/O.T._Genasis\" title=\"O.T. Genasis\">O.T. Genasis</a>, <a href=\"/wiki/Offset_(rapper)\" title=\"Offset (rapper)\">Offset (rapper)</a>, <a href=\"/wiki/Ozuna\" title=\"Ozuna\">Ozuna</a>, <a href=\"/wiki/PartyNextDoor\" title=\"PartyNextDoor\">PartyNextDoor</a>, <a href=\"/wiki/Project_Pat\" title=\"Project Pat\">Project Pat</a>, <a href=\"/wiki/Quavo\" title=\"Quavo\">Quavo</a>, <a href=\"/wiki/Alem%C3%A1n\" title=\"Alemán\">Alemán</a>, <a href=\"/wiki/Rich_the_Kid\" title=\"Rich the Kid\">Rich the Kid</a>, <a href=\"/wiki/Dawn_Richard\" title=\"Dawn Richard\">Dawn Richard</a>, <a href=\"/wiki/Rick_Ross\" title=\"Rick Ross\">Rick Ross</a>, <a href=\"/wiki/Robb_Banks\" title=\"Robb Banks\">Robb Banks</a>, <a href=\"/wiki/Rvssian\" title=\"Rvssian\">Rvssian</a>, <a href=\"/wiki/Jamil_(rapper)\" title=\"Jamil (rapper)\">Jamil (rapper)</a>, <a href=\"/wiki/Scarlxrd\" title=\"Scarlxrd\">Scarlxrd</a>, <a href=\"/wiki/SCH_(rapper)\" title=\"SCH (rapper)\">SCH (rapper)</a>, <a href=\"/wiki/SD_(rapper)\" title=\"SD (rapper)\">SD (rapper)</a>, <a href=\"/wiki/Desiigner\" title=\"Desiigner\">Desiigner</a>, <a href=\"/wiki/Sheck_Wes\" title=\"Sheck Wes\">Sheck Wes</a>, <a href=\"/wiki/Nav_(rapper)\" title=\"Nav (rapper)\">Nav (rapper)</a>, <a href=\"/wiki/Jaden_Smith\" title=\"Jaden Smith\">Jaden Smith</a>, <a href=\"/wiki/Smokepurpp\" title=\"Smokepurpp\">Smokepurpp</a>, <a href=\"/wiki/Sosmula\" title=\"Sosmula\">Sosmula</a>, <a href=\"/wiki/Soulja_Boy\" title=\"Soulja Boy\">Soulja Boy</a>, <a href=\"/wiki/Ronny_J\" title=\"Ronny J\">Ronny J</a>, <a href=\"/wiki/T.I.\" title=\"T.I.\">T.I.</a>, <a href=\"/wiki/Taco_Hemingway\" title=\"Taco Hemingway\">Taco Hemingway</a>, <a href=\"/wiki/Takeoff\" title=\"Takeoff\">Takeoff</a>, <a href=\"/wiki/Tedua\" title=\"Tedua\">Tedua</a>, <a href=\"/wiki/Tha_Supreme\" title=\"Tha Supreme\">Tha Supreme</a>, <a href=\"/wiki/Bryson_Tiller\" title=\"Bryson Tiller\">Bryson Tiller</a>, <a href=\"/wiki/Lil_Tracy\" title=\"Lil Tracy\">Lil Tracy</a>, <a href=\"/wiki/Travis_Scott\" title=\"Travis Scott\">Travis Scott</a>, <a href=\"/wiki/Trippie_Redd\" title=\"Trippie Redd\">Trippie Redd</a>, <a href=\"/wiki/Tyga\" title=\"Tyga\">Tyga</a>, <a href=\"/wiki/Vacca_(rapper)\" title=\"Vacca (rapper)\">Vacca (rapper)</a>, <a href=\"/wiki/Waka_Flocka_Flame\" title=\"Waka Flocka Flame\">Waka Flocka Flame</a>, <a href=\"/wiki/Wifisfuneral\" title=\"Wifisfuneral\">Wifisfuneral</a>, <a href=\"/wiki/Lil_Xan\" title=\"Lil Xan\">Lil Xan</a>, <a href=\"/wiki/Yaeji\" title=\"Yaeji\">Yaeji</a>, <a href=\"/wiki/YNW_Melly\" title=\"YNW Melly\">YNW Melly</a>, <a href=\"/wiki/Yung_Bans\" title=\"Yung Bans\">Yung Bans</a>, <a href=\"/wiki/Arizona_Zervas\" title=\"Arizona Zervas\">Arizona Zervas</a>, <a dir=\"ltr\" href=\"https://it.wikipedia.org/w/index.php?title=Categoria:Cantanti_trap&amp;oldid=107757064\">https://it.wikipedia.org/w/index.php?title=Categoria:Cantanti_trap&amp;oldid=107757064</a>, <a href=\"/wiki/Categoria:Categorie\" title=\"Categoria:Categorie\">Categorie</a>, <a href=\"/wiki/Categoria:Cantanti_hip_hop\" title=\"Categoria:Cantanti hip hop\">Cantanti hip hop</a>, <a href=\"/wiki/Categoria:Musicisti_trap\" title=\"Categoria:Musicisti trap\">Musicisti trap</a>, <a accesskey=\"n\" href=\"/wiki/Speciale:MieDiscussioni\" title=\"Discussioni sulle modifiche fatte da questo indirizzo IP [n]\">discussioni</a>, <a accesskey=\"y\" href=\"/wiki/Speciale:MieiContributi\" title=\"Un elenco delle modifiche fatte da questo indirizzo IP [y]\">contributi</a>, <a href=\"/w/index.php?title=Speciale:CreaUtenza&amp;returnto=Categoria%3ACantanti+trap\" title=\"Si consiglia di registrarsi e di effettuare l'accesso, anche se non è obbligatorio\">registrati</a>, <a accesskey=\"o\" href=\"/w/index.php?title=Speciale:Entra&amp;returnto=Categoria%3ACantanti+trap\" title=\"Si consiglia di effettuare l'accesso, anche se non è obbligatorio [o]\">entra</a>, <a accesskey=\"c\" href=\"/wiki/Categoria:Cantanti_trap\" title=\"Vedi la pagina della categoria [c]\">Categoria</a>, <a accesskey=\"t\" href=\"/w/index.php?title=Discussioni_categoria:Cantanti_trap&amp;action=edit&amp;redlink=1\" rel=\"discussion\" title=\"Vedi le discussioni relative a questa pagina (la pagina non esiste) [t]\">Discussione</a>, <a href=\"/wiki/Categoria:Cantanti_trap\">Leggi</a>, <a accesskey=\"v\" href=\"/w/index.php?title=Categoria:Cantanti_trap&amp;veaction=edit\" title=\"Modifica questa pagina [v]\">Modifica</a>, <a accesskey=\"e\" href=\"/w/index.php?title=Categoria:Cantanti_trap&amp;action=edit\" title=\"Modifica questa pagina [e]\">Modifica wikitesto</a>, <a accesskey=\"h\" href=\"/w/index.php?title=Categoria:Cantanti_trap&amp;action=history\" title=\"Versioni precedenti di questa pagina [h]\">Cronologia</a>, <a class=\"mw-wiki-logo\" href=\"/wiki/Pagina_principale\" title=\"Visita la pagina principale\"></a>, <a accesskey=\"z\" href=\"/wiki/Pagina_principale\" title=\"Visita la pagina principale [z]\">Pagina principale</a>, <a accesskey=\"r\" href=\"/wiki/Speciale:UltimeModifiche\" title=\"Elenco delle ultime modifiche del sito [r]\">Ultime modifiche</a>, <a accesskey=\"x\" href=\"/wiki/Speciale:PaginaCasuale\" title=\"Mostra una pagina a caso [x]\">Una voce a caso</a>, <a href=\"/wiki/Speciale:NelleVicinanze\">Nelle vicinanze</a>, <a href=\"/wiki/Wikipedia:Vetrina\">Vetrina</a>, <a href=\"/wiki/Aiuto:Aiuto\" title=\"Pagine di aiuto\">Aiuto</a>, <a href=\"/wiki/Aiuto:Sportello_informazioni\">Sportello informazioni</a>, <a href=\"/wiki/Portale:Comunit%C3%A0\" title=\"Descrizione del progetto, cosa puoi fare, dove trovare le cose\">Portale Comunità</a>, <a href=\"/wiki/Wikipedia:Bar\">Bar</a>, <a href=\"/wiki/Wikipedia:Wikipediano\">Il Wikipediano</a>, <a href=\"//donate.wikimedia.org/wiki/Special:FundraiserRedirector?utm_source=donate&amp;utm_medium=sidebar&amp;utm_campaign=C13_it.wikipedia.org&amp;uselang=it\" title=\"Sostienici\">Fai una donazione</a>, <a href=\"/wiki/Wikipedia:Contatti\">Contatti</a>, <a accesskey=\"j\" href=\"/wiki/Speciale:PuntanoQui/Categoria:Cantanti_trap\" title=\"Elenco di tutte le pagine che sono collegate a questa [j]\">Puntano qui</a>, <a accesskey=\"k\" href=\"/wiki/Speciale:ModificheCorrelate/Categoria:Cantanti_trap\" rel=\"nofollow\" title=\"Elenco delle ultime modifiche alle pagine collegate a questa [k]\">Modifiche correlate</a>, <a accesskey=\"q\" href=\"/wiki/Speciale:PagineSpeciali\" title=\"Elenco di tutte le pagine speciali [q]\">Pagine speciali</a>, <a href=\"/w/index.php?title=Categoria:Cantanti_trap&amp;oldid=107757064\" title=\"Collegamento permanente a questa versione della pagina\">Link permanente</a>, <a href=\"/w/index.php?title=Categoria:Cantanti_trap&amp;action=info\" title=\"Ulteriori informazioni su questa pagina\">Informazioni pagina</a>, <a accesskey=\"g\" href=\"https://www.wikidata.org/wiki/Special:EntityPage/Q19857999\" title=\"Collegamento all'elemento connesso dell'archivio dati [g]\">Elemento Wikidata</a>, <a href=\"/w/index.php?title=Speciale:Libro&amp;bookcmd=book_creator&amp;referer=Categoria%3ACantanti+trap\">Crea un libro</a>, <a href=\"/w/index.php?title=Speciale:ElectronPdf&amp;page=Categoria%3ACantanti+trap&amp;action=show-download-screen\">Scarica come PDF</a>, <a accesskey=\"p\" href=\"/w/index.php?title=Categoria:Cantanti_trap&amp;printable=yes\" title=\"Versione stampabile di questa pagina [p]\">Versione stampabile</a>, <a class=\"interlanguage-link-target\" href=\"https://ca.wikipedia.org/wiki/Categoria:Cantants_de_trap\" hreflang=\"ca\" lang=\"ca\" title=\"Categoria:Cantants de trap - catalano\">Català</a>, <a class=\"interlanguage-link-target\" href=\"https://es.wikipedia.org/wiki/Categor%C3%ADa:Cantantes_de_trap\" hreflang=\"es\" lang=\"es\" title=\"Categoría:Cantantes de trap - spagnolo\">Español</a>, <a class=\"wbc-editpage\" href=\"https://www.wikidata.org/wiki/Special:EntityPage/Q19857999#sitelinks-wikipedia\" title=\"Modifica collegamenti interlinguistici\">Modifica collegamenti</a>, <a href=\"https://creativecommons.org/licenses/by-sa/3.0/deed.it\">licenza Creative Commons Attribuzione-Condividi allo stesso modo</a>, <a href=\"https://foundation.wikimedia.org/wiki/Special:MyLanguage/Terms_of_Use/it\">condizioni d'uso</a>, <a class=\"extiw\" href=\"https://meta.wikimedia.org/wiki/Privacy_policy/it\" title=\"m:Privacy policy/it\">Informativa sulla privacy</a>, <a href=\"/wiki/Wikipedia:Sala_stampa/Wikipedia\" title=\"Wikipedia:Sala stampa/Wikipedia\">Informazioni su Wikipedia</a>, <a href=\"/wiki/Wikipedia:Avvertenze_generali\" title=\"Wikipedia:Avvertenze generali\">Avvertenze</a>, <a href=\"https://www.mediawiki.org/wiki/Special:MyLanguage/How_to_contribute\">Sviluppatori</a>, <a href=\"https://stats.wikimedia.org/v2/#/it.wikipedia.org\">Statistiche</a>, <a href=\"https://foundation.wikimedia.org/wiki/Cookie_statement\">Dichiarazione sui cookie</a>, <a class=\"noprint stopMobileRedirectToggle\" href=\"//it.m.wikipedia.org/w/index.php?title=Categoria:Cantanti_trap&amp;mobileaction=toggle_view_mobile\">Versione mobile</a>, <a href=\"https://wikimediafoundation.org/\"><img alt=\"Wikimedia Foundation\" height=\"31\" src=\"/static/images/wikimedia-button.png\" srcset=\"/static/images/wikimedia-button-1.5x.png 1.5x, /static/images/wikimedia-button-2x.png 2x\" width=\"88\"/></a>, <a href=\"https://www.mediawiki.org/\"><img alt=\"Powered by MediaWiki\" height=\"31\" src=\"/static/images/poweredby_mediawiki_88x31.png\" srcset=\"/static/images/poweredby_mediawiki_132x47.png 1.5x, /static/images/poweredby_mediawiki_176x62.png 2x\" width=\"88\"/></a>]\n"
     ]
    }
   ],
   "source": [
    "a_tags = soup.findAll('a')\n",
    "\n",
    "print(a_tags)"
   ]
  },
  {
   "cell_type": "markdown",
   "metadata": {},
   "source": [
    "We can see observe that a_tags 1) is a list (default outputs of findAll) and more importantly 2) it contains a number of a-tags which we are not interested in.\n",
    "\n",
    "To solve this problem we can restrict the search of the a-tags to some container above the wanted ones in the html structure, for example a div which is high enough to contain all the names but low enough to not contain useless stuff."
   ]
  },
  {
   "cell_type": "markdown",
   "metadata": {},
   "source": [
    "If we inspect the source again:\n",
    "![title](img/inspect0.png)"
   ]
  },
  {
   "cell_type": "markdown",
   "metadata": {},
   "source": [
    "So if we first capture the div with class=mw-category-generated and then we extract the a-tags:"
   ]
  },
  {
   "cell_type": "code",
   "execution_count": 7,
   "metadata": {},
   "outputs": [
    {
     "name": "stdout",
     "output_type": "stream",
     "text": [
      "<div class=\"mw-category-generated\" dir=\"ltr\" lang=\"it\"><div id=\"mw-pages\">\n",
      "<h2>Pagine nella categoria \"Cantanti trap\"</h2>\n",
      "<p>Questa categoria contiene le 107 pagine indicate di seguito, su un totale di 107.\n",
      "</p><div class=\"mw-content-ltr\" dir=\"ltr\" lang=\"it\"><div class=\"mw-category\"><div class=\"mw-category-group\"><h3>0–9</h3>\n",
      "<ul><li><a href=\"/wiki/6ix9ine\" title=\"6ix9ine\">6ix9ine</a></li>\n",
      "<li><a href=\"/wiki/21_Savage\" title=\"21 Savage\">21 Savage</a></li></ul></div><div class=\"mw-category-group\"><h3>A</h3>\n",
      "<ul><li><a href=\"/wiki/Anuel_AA\" title=\"Anuel AA\">Anuel AA</a></li>\n",
      "<li><a href=\"/wiki/ASAP_Ferg\" title=\"ASAP Ferg\">ASAP Ferg</a></li></ul></div><div class=\"mw-category-group\"><h3>B</h3>\n",
      "<ul><li><a href=\"/wiki/Bad_Bunny\" title=\"Bad Bunny\">Bad Bunny</a></li>\n",
      "<li><a href=\"/wiki/Belly_(rapper)\" title=\"Belly (rapper)\">Belly (rapper)</a></li>\n",
      "<li><a href=\"/wiki/Bhad_Bhabie\" title=\"Bhad Bhabie\">Bhad Bhabie</a></li>\n",
      "<li><a href=\"/wiki/Birdman_(rapper)\" title=\"Birdman (rapper)\">Birdman (rapper)</a></li>\n",
      "<li><a href=\"/wiki/Lele_Blade\" title=\"Lele Blade\">Lele Blade</a></li>\n",
      "<li><a href=\"/wiki/Booba_(rapper)\" title=\"Booba (rapper)\">Booba (rapper)</a></li>\n",
      "<li><a href=\"/wiki/Quando_Rondo\" title=\"Quando Rondo\">Quando Rondo</a></li></ul></div><div class=\"mw-category-group\"><h3>C</h3>\n",
      "<ul><li><a href=\"/wiki/Maikel_Delacalle\" title=\"Maikel Delacalle\">Maikel Delacalle</a></li>\n",
      "<li><a href=\"/wiki/Capo_Plaza\" title=\"Capo Plaza\">Capo Plaza</a></li>\n",
      "<li><a href=\"/wiki/Cardi_B\" title=\"Cardi B\">Cardi B</a></li>\n",
      "<li><a href=\"/wiki/Chanmina\" title=\"Chanmina\">Chanmina</a></li>\n",
      "<li><a href=\"/wiki/Chief_Keef\" title=\"Chief Keef\">Chief Keef</a></li>\n",
      "<li><a href=\"/wiki/CL_(cantante)\" title=\"CL (cantante)\">CL (cantante)</a></li>\n",
      "<li><a href=\"/wiki/Comethazine\" title=\"Comethazine\">Comethazine</a></li></ul></div><div class=\"mw-category-group\"><h3>D</h3>\n",
      "<ul><li><a href=\"/wiki/DaBaby\" title=\"DaBaby\">DaBaby</a></li>\n",
      "<li><a href=\"/wiki/Dej_Loaf\" title=\"Dej Loaf\">Dej Loaf</a></li>\n",
      "<li><a href=\"/wiki/DJ_Paul\" title=\"DJ Paul\">DJ Paul</a></li>\n",
      "<li><a href=\"/wiki/Doja_Cat\" title=\"Doja Cat\">Doja Cat</a></li></ul></div><div class=\"mw-category-group\"><h3>F</h3>\n",
      "<ul><li><a href=\"/wiki/Famous_Dex\" title=\"Famous Dex\">Famous Dex</a></li>\n",
      "<li><a href=\"/wiki/Fetty_Wap\" title=\"Fetty Wap\">Fetty Wap</a></li>\n",
      "<li><a href=\"/wiki/Frauenarzt\" title=\"Frauenarzt\">Frauenarzt</a></li>\n",
      "<li><a href=\"/wiki/Future_(rapper)\" title=\"Future (rapper)\">Future (rapper)</a></li></ul></div><div class=\"mw-category-group\"><h3>G</h3>\n",
      "<ul><li><a href=\"/wiki/Ghali_(rapper)\" title=\"Ghali (rapper)\">Ghali (rapper)</a></li>\n",
      "<li><a href=\"/wiki/GionnyScandal\" title=\"GionnyScandal\">GionnyScandal</a></li>\n",
      "<li><a href=\"/wiki/Gradur\" title=\"Gradur\">Gradur</a></li>\n",
      "<li><a href=\"/wiki/Gucci_Mane\" title=\"Gucci Mane\">Gucci Mane</a></li></ul></div><div class=\"mw-category-group\"><h3>H</h3>\n",
      "<ul><li><a href=\"/wiki/Haftbefehl\" title=\"Haftbefehl\">Haftbefehl</a></li></ul></div><div class=\"mw-category-group\"><h3>J</h3>\n",
      "<ul><li><a href=\"/wiki/Jhay_Cortez\" title=\"Jhay Cortez\">Jhay Cortez</a></li>\n",
      "<li><a href=\"/wiki/Jon_Z\" title=\"Jon Z\">Jon Z</a></li>\n",
      "<li><a href=\"/wiki/Juice_Wrld\" title=\"Juice Wrld\">Juice Wrld</a></li>\n",
      "<li><a href=\"/wiki/Juicy_J\" title=\"Juicy J\">Juicy J</a></li></ul></div><div class=\"mw-category-group\"><h3>K</h3>\n",
      "<ul><li><a href=\"/wiki/Kaaris\" title=\"Kaaris\">Kaaris</a></li>\n",
      "<li><a href=\"/wiki/Kalash_(rapper)\" title=\"Kalash (rapper)\">Kalash (rapper)</a></li>\n",
      "<li><a href=\"/wiki/Keith_Ape\" title=\"Keith Ape\">Keith Ape</a></li>\n",
      "<li><a href=\"/wiki/Ketama126\" title=\"Ketama126\">Ketama126</a></li>\n",
      "<li><a href=\"/wiki/Wiz_Khalifa\" title=\"Wiz Khalifa\">Wiz Khalifa</a></li>\n",
      "<li><a href=\"/wiki/Kid_Kaze\" title=\"Kid Kaze\">Kid Kaze</a></li>\n",
      "<li><a href=\"/wiki/Kodak_Black\" title=\"Kodak Black\">Kodak Black</a></li></ul></div><div class=\"mw-category-group\"><h3>L</h3>\n",
      "<ul><li><a href=\"/wiki/Lacrim\" title=\"Lacrim\">Lacrim</a></li>\n",
      "<li><a href=\"/wiki/La%C3%AFoung\" title=\"Laïoung\">Laïoung</a></li>\n",
      "<li><a href=\"/wiki/Elettra_Lamborghini\" title=\"Elettra Lamborghini\">Elettra Lamborghini</a></li>\n",
      "<li><a href=\"/wiki/Lazza\" title=\"Lazza\">Lazza</a></li>\n",
      "<li><a href=\"/wiki/Lil_B\" title=\"Lil B\">Lil B</a></li>\n",
      "<li><a href=\"/wiki/Lil_Baby\" title=\"Lil Baby\">Lil Baby</a></li>\n",
      "<li><a href=\"/wiki/Lil_Nas_X\" title=\"Lil Nas X\">Lil Nas X</a></li>\n",
      "<li><a href=\"/wiki/Lil_Pump\" title=\"Lil Pump\">Lil Pump</a></li>\n",
      "<li><a href=\"/wiki/Lil_Reese\" title=\"Lil Reese\">Lil Reese</a></li>\n",
      "<li><a href=\"/wiki/Lil_Skies\" title=\"Lil Skies\">Lil Skies</a></li>\n",
      "<li><a href=\"/wiki/Lil_Tecca\" title=\"Lil Tecca\">Lil Tecca</a></li>\n",
      "<li><a href=\"/wiki/Lil_Uzi_Vert\" title=\"Lil Uzi Vert\">Lil Uzi Vert</a></li>\n",
      "<li><a href=\"/wiki/Lil_Wayne\" title=\"Lil Wayne\">Lil Wayne</a></li>\n",
      "<li><a href=\"/wiki/Lil_Yachty\" title=\"Lil Yachty\">Lil Yachty</a></li>\n",
      "<li><a href=\"/wiki/Lola_%C3%8Dndigo\" title=\"Lola Índigo\">Lola Índigo</a></li>\n",
      "<li><a href=\"/wiki/Lord_Infamous\" title=\"Lord Infamous\">Lord Infamous</a></li>\n",
      "<li><a href=\"/wiki/Lunay_(cantante)\" title=\"Lunay (cantante)\">Lunay (cantante)</a></li></ul></div><div class=\"mw-category-group\"><h3>M</h3>\n",
      "<ul><li><a href=\"/wiki/MadeinTYO\" title=\"MadeinTYO\">MadeinTYO</a></li>\n",
      "<li><a href=\"/wiki/MC_Mack\" title=\"MC Mack\">MC Mack</a></li>\n",
      "<li><a href=\"/wiki/Meek_Mill\" title=\"Meek Mill\">Meek Mill</a></li>\n",
      "<li><a href=\"/wiki/Stella_Mwangi\" title=\"Stella Mwangi\">Stella Mwangi</a></li></ul></div><div class=\"mw-category-group\"><h3>N</h3>\n",
      "<ul><li><a href=\"/wiki/Niska\" title=\"Niska\">Niska</a></li>\n",
      "<li><a href=\"/wiki/NLE_Choppa\" title=\"NLE Choppa\">NLE Choppa</a></li></ul></div><div class=\"mw-category-group\"><h3>O</h3>\n",
      "<ul><li><a href=\"/wiki/O.T._Genasis\" title=\"O.T. Genasis\">O.T. Genasis</a></li>\n",
      "<li><a href=\"/wiki/Offset_(rapper)\" title=\"Offset (rapper)\">Offset (rapper)</a></li>\n",
      "<li><a href=\"/wiki/Ozuna\" title=\"Ozuna\">Ozuna</a></li></ul></div><div class=\"mw-category-group\"><h3>P</h3>\n",
      "<ul><li><a href=\"/wiki/PartyNextDoor\" title=\"PartyNextDoor\">PartyNextDoor</a></li>\n",
      "<li><a href=\"/wiki/Project_Pat\" title=\"Project Pat\">Project Pat</a></li></ul></div><div class=\"mw-category-group\"><h3>Q</h3>\n",
      "<ul><li><a href=\"/wiki/Quavo\" title=\"Quavo\">Quavo</a></li></ul></div><div class=\"mw-category-group\"><h3>R</h3>\n",
      "<ul><li><a href=\"/wiki/Alem%C3%A1n\" title=\"Alemán\">Alemán</a></li>\n",
      "<li><a href=\"/wiki/Rich_the_Kid\" title=\"Rich the Kid\">Rich the Kid</a></li>\n",
      "<li><a href=\"/wiki/Dawn_Richard\" title=\"Dawn Richard\">Dawn Richard</a></li>\n",
      "<li><a href=\"/wiki/Rick_Ross\" title=\"Rick Ross\">Rick Ross</a></li>\n",
      "<li><a href=\"/wiki/Robb_Banks\" title=\"Robb Banks\">Robb Banks</a></li>\n",
      "<li><a href=\"/wiki/Rvssian\" title=\"Rvssian\">Rvssian</a></li></ul></div><div class=\"mw-category-group\"><h3>S</h3>\n",
      "<ul><li><a href=\"/wiki/Jamil_(rapper)\" title=\"Jamil (rapper)\">Jamil (rapper)</a></li>\n",
      "<li><a href=\"/wiki/Scarlxrd\" title=\"Scarlxrd\">Scarlxrd</a></li>\n",
      "<li><a href=\"/wiki/SCH_(rapper)\" title=\"SCH (rapper)\">SCH (rapper)</a></li>\n",
      "<li><a href=\"/wiki/SD_(rapper)\" title=\"SD (rapper)\">SD (rapper)</a></li>\n",
      "<li><a href=\"/wiki/Desiigner\" title=\"Desiigner\">Desiigner</a></li>\n",
      "<li><a href=\"/wiki/Sheck_Wes\" title=\"Sheck Wes\">Sheck Wes</a></li>\n",
      "<li><a href=\"/wiki/Nav_(rapper)\" title=\"Nav (rapper)\">Nav (rapper)</a></li>\n",
      "<li><a href=\"/wiki/Jaden_Smith\" title=\"Jaden Smith\">Jaden Smith</a></li>\n",
      "<li><a href=\"/wiki/Smokepurpp\" title=\"Smokepurpp\">Smokepurpp</a></li>\n",
      "<li><a href=\"/wiki/Sosmula\" title=\"Sosmula\">Sosmula</a></li>\n",
      "<li><a href=\"/wiki/Soulja_Boy\" title=\"Soulja Boy\">Soulja Boy</a></li>\n",
      "<li><a href=\"/wiki/Ronny_J\" title=\"Ronny J\">Ronny J</a></li></ul></div><div class=\"mw-category-group\"><h3>T</h3>\n",
      "<ul><li><a href=\"/wiki/T.I.\" title=\"T.I.\">T.I.</a></li>\n",
      "<li><a href=\"/wiki/Taco_Hemingway\" title=\"Taco Hemingway\">Taco Hemingway</a></li>\n",
      "<li><a href=\"/wiki/Takeoff\" title=\"Takeoff\">Takeoff</a></li>\n",
      "<li><a href=\"/wiki/Tedua\" title=\"Tedua\">Tedua</a></li>\n",
      "<li><a href=\"/wiki/Tha_Supreme\" title=\"Tha Supreme\">Tha Supreme</a></li>\n",
      "<li><a href=\"/wiki/Bryson_Tiller\" title=\"Bryson Tiller\">Bryson Tiller</a></li>\n",
      "<li><a href=\"/wiki/Lil_Tracy\" title=\"Lil Tracy\">Lil Tracy</a></li>\n",
      "<li><a href=\"/wiki/Travis_Scott\" title=\"Travis Scott\">Travis Scott</a></li>\n",
      "<li><a href=\"/wiki/Trippie_Redd\" title=\"Trippie Redd\">Trippie Redd</a></li>\n",
      "<li><a href=\"/wiki/Tyga\" title=\"Tyga\">Tyga</a></li></ul></div><div class=\"mw-category-group\"><h3>V</h3>\n",
      "<ul><li><a href=\"/wiki/Vacca_(rapper)\" title=\"Vacca (rapper)\">Vacca (rapper)</a></li></ul></div><div class=\"mw-category-group\"><h3>W</h3>\n",
      "<ul><li><a href=\"/wiki/Waka_Flocka_Flame\" title=\"Waka Flocka Flame\">Waka Flocka Flame</a></li>\n",
      "<li><a href=\"/wiki/Wifisfuneral\" title=\"Wifisfuneral\">Wifisfuneral</a></li></ul></div><div class=\"mw-category-group\"><h3>X</h3>\n",
      "<ul><li><a href=\"/wiki/Lil_Xan\" title=\"Lil Xan\">Lil Xan</a></li></ul></div><div class=\"mw-category-group\"><h3>Y</h3>\n",
      "<ul><li><a href=\"/wiki/Yaeji\" title=\"Yaeji\">Yaeji</a></li>\n",
      "<li><a href=\"/wiki/YNW_Melly\" title=\"YNW Melly\">YNW Melly</a></li>\n",
      "<li><a href=\"/wiki/Yung_Bans\" title=\"Yung Bans\">Yung Bans</a></li></ul></div><div class=\"mw-category-group\"><h3>Z</h3>\n",
      "<ul><li><a href=\"/wiki/Arizona_Zervas\" title=\"Arizona Zervas\">Arizona Zervas</a></li></ul></div></div></div>\n",
      "</div></div>\n"
     ]
    }
   ],
   "source": [
    "div = soup.find('div', {'class' : 'mw-category-generated'}) \n",
    "# notice: the second argument is a dictionary, so it can potentially have more entries, for more refined definitions\n",
    "\n",
    "print(div)"
   ]
  },
  {
   "cell_type": "code",
   "execution_count": 8,
   "metadata": {},
   "outputs": [
    {
     "name": "stdout",
     "output_type": "stream",
     "text": [
      "[<a href=\"/wiki/6ix9ine\" title=\"6ix9ine\">6ix9ine</a>, <a href=\"/wiki/21_Savage\" title=\"21 Savage\">21 Savage</a>, <a href=\"/wiki/Anuel_AA\" title=\"Anuel AA\">Anuel AA</a>, <a href=\"/wiki/ASAP_Ferg\" title=\"ASAP Ferg\">ASAP Ferg</a>, <a href=\"/wiki/Bad_Bunny\" title=\"Bad Bunny\">Bad Bunny</a>]\n"
     ]
    }
   ],
   "source": [
    "a_tags = div.findAll('a')\n",
    "\n",
    "print(a_tags[0:5])"
   ]
  },
  {
   "cell_type": "markdown",
   "metadata": {},
   "source": [
    "We can build a list of strings containing the names of the artists by extracting the text attribute from each a-tag:"
   ]
  },
  {
   "cell_type": "code",
   "execution_count": 9,
   "metadata": {},
   "outputs": [
    {
     "name": "stdout",
     "output_type": "stream",
     "text": [
      "['6ix9ine', '21 Savage', 'Anuel AA', 'ASAP Ferg', 'Bad Bunny', 'Belly (rapper)', 'Bhad Bhabie', 'Birdman (rapper)', 'Lele Blade', 'Booba (rapper)', 'Quando Rondo', 'Maikel Delacalle', 'Capo Plaza', 'Cardi B', 'Chanmina', 'Chief Keef', 'CL (cantante)', 'Comethazine', 'DaBaby', 'Dej Loaf', 'DJ Paul', 'Doja Cat', 'Famous Dex', 'Fetty Wap', 'Frauenarzt', 'Future (rapper)', 'Ghali (rapper)', 'GionnyScandal', 'Gradur', 'Gucci Mane', 'Haftbefehl', 'Jhay Cortez', 'Jon Z', 'Juice Wrld', 'Juicy J', 'Kaaris', 'Kalash (rapper)', 'Keith Ape', 'Ketama126', 'Wiz Khalifa', 'Kid Kaze', 'Kodak Black', 'Lacrim', 'Laïoung', 'Elettra Lamborghini', 'Lazza', 'Lil B', 'Lil Baby', 'Lil Nas X', 'Lil Pump', 'Lil Reese', 'Lil Skies', 'Lil Tecca', 'Lil Uzi Vert', 'Lil Wayne', 'Lil Yachty', 'Lola Índigo', 'Lord Infamous', 'Lunay (cantante)', 'MadeinTYO', 'MC Mack', 'Meek Mill', 'Stella Mwangi', 'Niska', 'NLE Choppa', 'O.T. Genasis', 'Offset (rapper)', 'Ozuna', 'PartyNextDoor', 'Project Pat', 'Quavo', 'Alemán', 'Rich the Kid', 'Dawn Richard', 'Rick Ross', 'Robb Banks', 'Rvssian', 'Jamil (rapper)', 'Scarlxrd', 'SCH (rapper)', 'SD (rapper)', 'Desiigner', 'Sheck Wes', 'Nav (rapper)', 'Jaden Smith', 'Smokepurpp', 'Sosmula', 'Soulja Boy', 'Ronny J', 'T.I.', 'Taco Hemingway', 'Takeoff', 'Tedua', 'Tha Supreme', 'Bryson Tiller', 'Lil Tracy', 'Travis Scott', 'Trippie Redd', 'Tyga', 'Vacca (rapper)', 'Waka Flocka Flame', 'Wifisfuneral', 'Lil Xan', 'Yaeji', 'YNW Melly', 'Yung Bans', 'Arizona Zervas']\n"
     ]
    }
   ],
   "source": [
    "names = [a.text for a in a_tags]\n",
    "\n",
    "print(names)"
   ]
  },
  {
   "cell_type": "markdown",
   "metadata": {},
   "source": [
    "Finally, the list can be easily saved as text document:"
   ]
  },
  {
   "cell_type": "code",
   "execution_count": 10,
   "metadata": {},
   "outputs": [],
   "source": [
    "with open('trappers.txt', 'w+') as output_file:\n",
    "    for name in names:\n",
    "        output_file.write(name+'\\n')        "
   ]
  },
  {
   "cell_type": "markdown",
   "metadata": {},
   "source": [
    "Text is not the only attribute. For example we might want to extract the associate url:"
   ]
  },
  {
   "cell_type": "code",
   "execution_count": 11,
   "metadata": {},
   "outputs": [
    {
     "name": "stdout",
     "output_type": "stream",
     "text": [
      "['/wiki/6ix9ine', '/wiki/21_Savage', '/wiki/Anuel_AA', '/wiki/ASAP_Ferg', '/wiki/Bad_Bunny', '/wiki/Belly_(rapper)', '/wiki/Bhad_Bhabie', '/wiki/Birdman_(rapper)', '/wiki/Lele_Blade', '/wiki/Booba_(rapper)', '/wiki/Quando_Rondo', '/wiki/Maikel_Delacalle', '/wiki/Capo_Plaza', '/wiki/Cardi_B', '/wiki/Chanmina', '/wiki/Chief_Keef', '/wiki/CL_(cantante)', '/wiki/Comethazine', '/wiki/DaBaby', '/wiki/Dej_Loaf', '/wiki/DJ_Paul', '/wiki/Doja_Cat', '/wiki/Famous_Dex', '/wiki/Fetty_Wap', '/wiki/Frauenarzt', '/wiki/Future_(rapper)', '/wiki/Ghali_(rapper)', '/wiki/GionnyScandal', '/wiki/Gradur', '/wiki/Gucci_Mane', '/wiki/Haftbefehl', '/wiki/Jhay_Cortez', '/wiki/Jon_Z', '/wiki/Juice_Wrld', '/wiki/Juicy_J', '/wiki/Kaaris', '/wiki/Kalash_(rapper)', '/wiki/Keith_Ape', '/wiki/Ketama126', '/wiki/Wiz_Khalifa', '/wiki/Kid_Kaze', '/wiki/Kodak_Black', '/wiki/Lacrim', '/wiki/La%C3%AFoung', '/wiki/Elettra_Lamborghini', '/wiki/Lazza', '/wiki/Lil_B', '/wiki/Lil_Baby', '/wiki/Lil_Nas_X', '/wiki/Lil_Pump', '/wiki/Lil_Reese', '/wiki/Lil_Skies', '/wiki/Lil_Tecca', '/wiki/Lil_Uzi_Vert', '/wiki/Lil_Wayne', '/wiki/Lil_Yachty', '/wiki/Lola_%C3%8Dndigo', '/wiki/Lord_Infamous', '/wiki/Lunay_(cantante)', '/wiki/MadeinTYO', '/wiki/MC_Mack', '/wiki/Meek_Mill', '/wiki/Stella_Mwangi', '/wiki/Niska', '/wiki/NLE_Choppa', '/wiki/O.T._Genasis', '/wiki/Offset_(rapper)', '/wiki/Ozuna', '/wiki/PartyNextDoor', '/wiki/Project_Pat', '/wiki/Quavo', '/wiki/Alem%C3%A1n', '/wiki/Rich_the_Kid', '/wiki/Dawn_Richard', '/wiki/Rick_Ross', '/wiki/Robb_Banks', '/wiki/Rvssian', '/wiki/Jamil_(rapper)', '/wiki/Scarlxrd', '/wiki/SCH_(rapper)', '/wiki/SD_(rapper)', '/wiki/Desiigner', '/wiki/Sheck_Wes', '/wiki/Nav_(rapper)', '/wiki/Jaden_Smith', '/wiki/Smokepurpp', '/wiki/Sosmula', '/wiki/Soulja_Boy', '/wiki/Ronny_J', '/wiki/T.I.', '/wiki/Taco_Hemingway', '/wiki/Takeoff', '/wiki/Tedua', '/wiki/Tha_Supreme', '/wiki/Bryson_Tiller', '/wiki/Lil_Tracy', '/wiki/Travis_Scott', '/wiki/Trippie_Redd', '/wiki/Tyga', '/wiki/Vacca_(rapper)', '/wiki/Waka_Flocka_Flame', '/wiki/Wifisfuneral', '/wiki/Lil_Xan', '/wiki/Yaeji', '/wiki/YNW_Melly', '/wiki/Yung_Bans', '/wiki/Arizona_Zervas']\n"
     ]
    }
   ],
   "source": [
    "urls = [a.attrs['href'] for a in a_tags]\n",
    "\n",
    "print(urls)"
   ]
  },
  {
   "cell_type": "markdown",
   "metadata": {},
   "source": [
    "## Scraping paginated results\n",
    "\n",
    "Automated scraping becomes especially useful when we want to download hundreds or thousands of entries and we can't just copy-paste dozens of pages.\n",
    "\n",
    "In particular we take a look at paginated results, such as, for example, the list of Italian hotels according to the website www.elenco-alberghi.it"
   ]
  },
  {
   "cell_type": "markdown",
   "metadata": {},
   "source": [
    "The front page looks like this:\n",
    "![title](img/hotels.png)"
   ]
  },
  {
   "cell_type": "markdown",
   "metadata": {},
   "source": [
    "One approach is to visit the page corresponding to each region, and download the list of hotels from there. However, the results in each region page are paginated:\n",
    "\n",
    "![title](img/abruzzo0.png)"
   ]
  },
  {
   "cell_type": "markdown",
   "metadata": {},
   "source": [
    "The idea is to cycle through every page and download the list fo hotels in each page, in each region.\n",
    "\n",
    "First of all, we define a url template, with a placeholder for the region and the list of regions, looking at the homepage of the website:"
   ]
  },
  {
   "cell_type": "code",
   "execution_count": 12,
   "metadata": {},
   "outputs": [],
   "source": [
    "# curly braces will be replaced with region name using format\n",
    "region_template_url = \"http://www.elenco-alberghi.it/{}/alberghi-hotels.asp\"\n",
    "\n",
    "# manually taken from homepage of www.elenco-alberghi.it\n",
    "regions = [\"abruzzo\", \"basilicata\", \"calabria\", \"campania\", \"emilia-romagna\", \"friuli-venezia-giulia\",\n",
    "\"lazio\", \"liguria\", \"lombardia\", \"marche\", \"molise\", \"piemonte\", \"puglia\", \"sardegna\", \"sicilia\", \"toscana\",\n",
    "\"trentino-alto-adige\", \"umbria\", \"valle-d-aosta\", \"veneto\"]"
   ]
  },
  {
   "cell_type": "markdown",
   "metadata": {},
   "source": [
    "For each region, we need to know how many pages there are in the paginated list.\n",
    "\n",
    "Luckily, this information can be found in the html source:\n",
    "\n",
    "![title](img/pagination.png)"
   ]
  },
  {
   "cell_type": "markdown",
   "metadata": {},
   "source": [
    "Let's zoom in a little:\n",
    "\n",
    "![title](img/pag_zoom.png)"
   ]
  },
  {
   "cell_type": "markdown",
   "metadata": {},
   "source": [
    "We can observe that each li-tag inside the div with id \"paginazione\" corresponds to a page number and containes the urls to that page number, together with a text element with that number (e.g. \"10\").\n",
    "\n",
    "This is true, except for the last li-tag, corresponding to the last page: the text element is just \"...\"  as displayed in the webpage. The number, however can be recovered from the associated url (e.g. \"81\")."
   ]
  },
  {
   "cell_type": "markdown",
   "metadata": {},
   "source": [
    "So let's extract that page number.\n",
    "\n",
    "First, define the url:"
   ]
  },
  {
   "cell_type": "code",
   "execution_count": 13,
   "metadata": {},
   "outputs": [
    {
     "name": "stdout",
     "output_type": "stream",
     "text": [
      "http://www.elenco-alberghi.it/abruzzo/alberghi-hotels.asp\n"
     ]
    }
   ],
   "source": [
    "region = \"abruzzo\" # for example\n",
    "reg_url = region_template_url.format(region) # insert region into template url\n",
    "\n",
    "print(reg_url)"
   ]
  },
  {
   "cell_type": "markdown",
   "metadata": {},
   "source": [
    "Next, http call and parse of response:"
   ]
  },
  {
   "cell_type": "code",
   "execution_count": 14,
   "metadata": {},
   "outputs": [
    {
     "name": "stdout",
     "output_type": "stream",
     "text": [
      "<Response [200]>\n"
     ]
    }
   ],
   "source": [
    "reg_r = requests.get(reg_url, headers=headers) # http request to page\n",
    "print(reg_r)\n",
    "\n",
    "reg_soup = bs(reg_r.text, \"lxml\")  # soupify"
   ]
  },
  {
   "cell_type": "markdown",
   "metadata": {},
   "source": [
    "Next, we extract the wanted div \"paginazione\" and the li-tags inside it:"
   ]
  },
  {
   "cell_type": "code",
   "execution_count": 15,
   "metadata": {},
   "outputs": [
    {
     "name": "stdout",
     "output_type": "stream",
     "text": [
      "[<li id=\"inactive\">Pagine:</li>, <li id=\"activelink\"><a href=\"javascript:void(0)\">1</a></li>, <li><a href=\"/abruzzo/alberghi-hotels_2.asp\" title=\"Vai alla pagina n. 2\">2</a></li>, <li><a href=\"/abruzzo/alberghi-hotels_3.asp\" title=\"Vai alla pagina n. 3\">3</a></li>, <li><a href=\"/abruzzo/alberghi-hotels_4.asp\" title=\"Vai alla pagina n. 4\">4</a></li>, <li><a href=\"/abruzzo/alberghi-hotels_5.asp\" title=\"Vai alla pagina n. 5\">5</a></li>, <li><a href=\"/abruzzo/alberghi-hotels_6.asp\" title=\"Vai alla pagina n. 6\">6</a></li>, <li><a href=\"/abruzzo/alberghi-hotels_7.asp\" title=\"Vai alla pagina n. 7\">7</a></li>, <li><a href=\"/abruzzo/alberghi-hotels_8.asp\" title=\"Vai alla pagina n. 8\">8</a></li>, <li><a href=\"/abruzzo/alberghi-hotels_9.asp\" title=\"Vai alla pagina n. 9\">9</a></li>, <li><a href=\"/abruzzo/alberghi-hotels_10.asp\" title=\"Vai alla pagina n. 10\">10</a></li>, <li><a href=\"/abruzzo/alberghi-hotels_81.asp\" title=\"Vai all'ultima pagina\">...</a></li>]\n"
     ]
    }
   ],
   "source": [
    "div = reg_soup.find('div', {'id' : 'paginazione'}) # pages of numbers are in this div\n",
    "    \n",
    "li_tags = [li for li in div.findAll('li')] # pages numbers are in these li elements\n",
    "\n",
    "print(li_tags)"
   ]
  },
  {
   "cell_type": "markdown",
   "metadata": {},
   "source": [
    "As we said, we want the number found in the url of the last li-tag:"
   ]
  },
  {
   "cell_type": "code",
   "execution_count": 16,
   "metadata": {},
   "outputs": [
    {
     "name": "stdout",
     "output_type": "stream",
     "text": [
      "<li><a href=\"/abruzzo/alberghi-hotels_81.asp\" title=\"Vai all'ultima pagina\">...</a></li>\n"
     ]
    }
   ],
   "source": [
    "last_li = li_tags[-1] # we want the last li\n",
    "\n",
    "print(last_li)"
   ]
  },
  {
   "cell_type": "code",
   "execution_count": 17,
   "metadata": {},
   "outputs": [
    {
     "name": "stdout",
     "output_type": "stream",
     "text": [
      "/abruzzo/alberghi-hotels_81.asp\n"
     ]
    }
   ],
   "source": [
    "last_li_url = last_li.find('a').attrs['href'] # we extract the number from the url of the last li (which corresponds to the button for the last page) \n",
    "print(last_li_url)"
   ]
  },
  {
   "cell_type": "code",
   "execution_count": 18,
   "metadata": {},
   "outputs": [
    {
     "name": "stdout",
     "output_type": "stream",
     "text": [
      "81\n"
     ]
    }
   ],
   "source": [
    "N = int(re.findall(r'\\d+', last_li_url)[0]) # convert to integer the only digit found\n",
    "print(N)"
   ]
  },
  {
   "cell_type": "markdown",
   "metadata": {},
   "source": [
    "In order to make this code re-usable, let's bring it together in a function:"
   ]
  },
  {
   "cell_type": "code",
   "execution_count": 19,
   "metadata": {},
   "outputs": [],
   "source": [
    "def howmany_pages(region): # define a function with region as input\n",
    "    reg_url = region_template_url.format(region) # insert region into template url\n",
    "    reg_r = requests.get(reg_url, headers=headers) # http request to page\n",
    "    reg_soup = bs(reg_r.text, \"lxml\")  # soupify    \n",
    "    div = reg_soup.find('div', {'id' : 'paginazione'}) # pages of numbers are in this div    \n",
    "    li_tags = [li for li in div.findAll('li')] # pages numbers are in these li elements    \n",
    "    last_li = li_tags[-1].find('a').attrs['href'] # we extract the url of last li    \n",
    "    N = int(re.findall(r'\\d+', last_li)[0]) # convert to integer the only digit found\n",
    "    \n",
    "    return(N)"
   ]
  },
  {
   "cell_type": "code",
   "execution_count": 20,
   "metadata": {},
   "outputs": [
    {
     "data": {
      "text/plain": [
       "81"
      ]
     },
     "execution_count": 20,
     "metadata": {},
     "output_type": "execute_result"
    }
   ],
   "source": [
    "howmany_pages(\"abruzzo\")"
   ]
  },
  {
   "cell_type": "code",
   "execution_count": 21,
   "metadata": {},
   "outputs": [
    {
     "data": {
      "text/plain": [
       "149"
      ]
     },
     "execution_count": 21,
     "metadata": {},
     "output_type": "execute_result"
    }
   ],
   "source": [
    "howmany_pages(\"piemonte\")"
   ]
  },
  {
   "cell_type": "markdown",
   "metadata": {},
   "source": [
    "It works!\n",
    "\n",
    "Using the function let's convert the list of regions into a dictionary where each region is associated with its number of pages:"
   ]
  },
  {
   "cell_type": "code",
   "execution_count": 22,
   "metadata": {},
   "outputs": [],
   "source": [
    "# collect in a dictionary the name of each region with its max number of pages\n",
    "regions_dic = {region : howmany_pages(region) for region in regions}"
   ]
  },
  {
   "cell_type": "code",
   "execution_count": 23,
   "metadata": {},
   "outputs": [
    {
     "name": "stdout",
     "output_type": "stream",
     "text": [
      "{'liguria': 123, 'sardegna': 97, 'sicilia': 183, 'veneto': 288, 'puglia': 108, 'emilia-romagna': 379, 'piemonte': 149, 'molise': 8, 'abruzzo': 81, 'trentino-alto-adige': 300, 'lombardia': 256, 'friuli-venezia-giulia': 65, 'umbria': 74, 'marche': 103, 'valle-d-aosta': 36, 'lazio': 184, 'campania': 174, 'basilicata': 17, 'calabria': 73, 'toscana': 406}\n"
     ]
    }
   ],
   "source": [
    "print(regions_dic)"
   ]
  },
  {
   "cell_type": "markdown",
   "metadata": {},
   "source": [
    "With this dictionary it's relatively easy to cycle through regions, and for each region cycle through pages and download the names of the hotels found in each page. \n",
    "\n",
    "Let's look at one example, then we can generalize:\n",
    "7th page of \"Marche\" http://www.elenco-alberghi.it/marche/alberghi-hotels_7.asp it looks like this:\n",
    "\n",
    "![title](img/marche7.png)"
   ]
  },
  {
   "cell_type": "markdown",
   "metadata": {},
   "source": [
    "Zooming in:\n",
    "\n",
    "![title](img/marche7_zoom.png)"
   ]
  },
  {
   "cell_type": "markdown",
   "metadata": {},
   "source": [
    "We need to extract the text element from a-tags in the span with class \"titololista\":"
   ]
  },
  {
   "cell_type": "code",
   "execution_count": 24,
   "metadata": {},
   "outputs": [],
   "source": [
    "# we start from a url template\n",
    "page_template_url = \"http://www.elenco-alberghi.it/{}/alberghi-hotels_{}.asp\"\n",
    "# second curly braces will be the page number"
   ]
  },
  {
   "cell_type": "code",
   "execution_count": 25,
   "metadata": {},
   "outputs": [],
   "source": [
    "region = \"marche\" # set region manually\n",
    "i = 7 # set page number manually"
   ]
  },
  {
   "cell_type": "code",
   "execution_count": 26,
   "metadata": {},
   "outputs": [
    {
     "name": "stdout",
     "output_type": "stream",
     "text": [
      "http://www.elenco-alberghi.it/marche/alberghi-hotels_7.asp\n"
     ]
    }
   ],
   "source": [
    "reg_url = page_template_url.format(region, i) # fill the details of the url\n",
    "print(reg_url)"
   ]
  },
  {
   "cell_type": "code",
   "execution_count": 27,
   "metadata": {},
   "outputs": [],
   "source": [
    "reg_soup = bs(reg_r.text, \"lxml\")  # soupify"
   ]
  },
  {
   "cell_type": "code",
   "execution_count": 28,
   "metadata": {},
   "outputs": [
    {
     "name": "stdout",
     "output_type": "stream",
     "text": [
      "[<span class=\"titololista\"><a href=\"http://www.elenco-alberghi.it/abruzzo/l-aquila/opi/12293.asp\">HOTEL DU PARK - FABER GESTIONI TURISTICHE SRL</a></span>, <span class=\"titololista\"><a href=\"http://www.elenco-alberghi.it/abruzzo/teramo/controguerra/hotel-31968.asp\">BED AND BREAKFAST GIARDINO AGRITOURIST </a></span>, <span class=\"titololista\"><a href=\"http://www.elenco-alberghi.it/abruzzo/teramo/tortoreto/hotel-32269.asp\">HOTEL CLARA</a></span>, <span class=\"titololista\"><a href=\"http://www.elenco-alberghi.it/abruzzo/l-aquila/barrea/hotel-32423.asp\">LA CASA NEL BORGO</a></span>, <span class=\"titololista\"><a href=\"http://www.elenco-alberghi.it/abruzzo/teramo/tortoreto/hotel-33600.asp\">RESIDENCE MARGHERITA</a></span>, <span class=\"titololista\"><a href=\"http://www.elenco-alberghi.it/abruzzo/l-aquila/scanno/hotel-33944.asp\">HOTEL GARNI MILLE PINI </a></span>, <span class=\"titololista\"><a href=\"http://www.elenco-alberghi.it/abruzzo/chieti/arielli/hotel-34208.asp\">CASA DELL'ARCIPRETE B&amp;B</a></span>, <span class=\"titololista\"><a href=\"http://www.elenco-alberghi.it/abruzzo/chieti/poggiofiorito/hotel-34231.asp\">B&amp;B VILLA ANGELA</a></span>, <span class=\"titololista\"><a href=\"http://www.elenco-alberghi.it/abruzzo/pescara/abbateggio/hotel-34303.asp\">COLLE DELLA SELVA</a></span>, <span class=\"titololista\"><a href=\"http://www.elenco-alberghi.it/abruzzo/l-aquila/alfedena/hotel-34492.asp\">ALISMA HOTEL</a></span>]\n"
     ]
    }
   ],
   "source": [
    "span = reg_soup.findAll('span', {'class' : 'titololista'}) # get the span\n",
    "print(span)"
   ]
  },
  {
   "cell_type": "code",
   "execution_count": 29,
   "metadata": {},
   "outputs": [
    {
     "name": "stdout",
     "output_type": "stream",
     "text": [
      "['Hotel Du Park - Faber Gestioni Turistiche Srl', 'Bed And Breakfast Giardino Agritourist ', 'Hotel Clara', 'La Casa Nel Borgo', 'Residence Margherita', 'Hotel Garni Mille Pini ', \"Casa Dell'Arciprete B&B\", 'B&B Villa Angela', 'Colle Della Selva', 'Alisma Hotel']\n"
     ]
    }
   ],
   "source": [
    "names = [name.text.title() for name in span] # extract the text from each element, change case\n",
    "print(names)"
   ]
  },
  {
   "cell_type": "markdown",
   "metadata": {},
   "source": [
    "Some cleaning will be needed, but the basic approach works.\n",
    "\n",
    "Let's convert the code into a function which can be applied more generally:"
   ]
  },
  {
   "cell_type": "code",
   "execution_count": 30,
   "metadata": {},
   "outputs": [],
   "source": [
    "def get_names(region, N): # second argument will be provided with our dictionary above\n",
    "    \n",
    "    print()\n",
    "    print(\"Working on \"+region+\"...\")\n",
    "    print()\n",
    "    \n",
    "    region_template_url = \"http://www.elenco-alberghi.it/{}/alberghi-hotels_{}.asp\"\n",
    "    \n",
    "    names = [] # initialize list  \n",
    "    \n",
    "    for i in range(1, N + 1):\n",
    "    \n",
    "        reg_url = region_template_url.format(region, i) # fill the details of the url\n",
    "        reg_r = requests.get(reg_url, headers=headers) # http request to page\n",
    "        reg_soup = bs(reg_r.text, \"lxml\")  # soupify\n",
    "        \n",
    "        # hotel names are in these span elements\n",
    "        tmp_names = [name.text.title() for name in reg_soup.findAll('span', {'class' : 'titololista'})]\n",
    "        \n",
    "        names.extend(tmp_names) # append names found in this iteration\n",
    "      \n",
    "        # sometimes it's a good idea to randomize the wait between http calls, to avoid ip-banning\n",
    "        timeDelay = 0.1 * random.randrange(0, 3) + 0.5\n",
    "        time.sleep(timeDelay) # wait some random time\n",
    "        \n",
    "    print(\"Done!\")\n",
    "        \n",
    "    return(names)"
   ]
  },
  {
   "cell_type": "code",
   "execution_count": 31,
   "metadata": {},
   "outputs": [
    {
     "name": "stdout",
     "output_type": "stream",
     "text": [
      "\n",
      "Working on molise...\n",
      "\n",
      "Done!\n"
     ]
    }
   ],
   "source": [
    "names_molise = get_names(\"molise\", regions_dic[\"molise\"])"
   ]
  },
  {
   "cell_type": "code",
   "execution_count": 32,
   "metadata": {},
   "outputs": [
    {
     "name": "stdout",
     "output_type": "stream",
     "text": [
      "['Dimora Del Prete Di Belmonte', 'B&B Villa Ada', 'Albergo Ristorante Lo Smeraldo', 'Azienda Agrituristica La Ginestra', \"Hotel La Fonte Dell'Astore\", 'Albergo Le Dune', 'Cascina Garden Hotel', 'Grand Hotel Aljope', 'Grand Hotel Rinascimento', 'Artemide', 'Santo Stefano Dei Cavalli', \"Pleiadi'S Hotel \", 'Bar Albergo Hotel La Rondine ', 'Hostel Palazzo Della Citta', 'Hotel Il Duca Del Sannio', 'Masseria Santa Lucia', 'Borgo San Pietro', 'Hotel Majestic Molise', 'Hotel Residence Ristorante L\\x92Airone', 'Albergo Ristorante Miralago', 'Albergo Santoianni', 'Hotel Santa Lucia', 'Masseria Acquasalsa', 'Villaggio Le Meridiane', 'La Romanella', 'Hotel Capodivandra', 'Hotel Di Nardo', 'Masseria Monte Pizzi ', 'Domus Hotel', 'Residence Polena', 'Dimora Spina', 'Hotel Ribo Le Villette', 'B&B La Grotta Delle Fate', 'Agriturismo La Guardata', 'Albergo Campitelli 2', 'San Giorgio Hotel ', 'Hotel Il Cacciatore', 'Aloha Park Hotel ', 'Hotel Kristall', 'Hotel Lo Sciatore', 'Hotel Miletto', 'Albergo Rifugio Iezza', 'Hotel Kristiania', 'Agriturismo Colle Delle Ginestre ', 'Agriturismo La Quiete', 'Oca Giuliva', 'Agriturismo Colle Bianco', 'Hotel Ristorante Il Poggio', 'Hotel Strand ', 'Hotel Nido Verde', 'Hotel Capracotta', 'Casale Maginulfo Albergo ', 'Venafro Palace Hotel ', 'Albergo Ristorante Volturno', 'Hotel Colombina', 'Hotel Ristorante Sayonara ', 'Albergo La Tequila', 'Grand Hotel Europa ', 'Hotel Holiday ', 'Hotel Riggioni ', 'Hotel Dora', 'Hotel Residence Pollice Mare', 'Pensione Villa Ida', 'Europa Hotel ', 'Pensione Al Pescatore', 'Hotel Corona', 'Hotel Meridiano', 'Albergo Residenza Sveva', 'Hotel Ruffirio', 'Hotel Ristorante Le Cupolette', 'Albergo Ristorante Italia', 'Albergo Samnium', 'Hotel Mistral', 'Hotel Palma Costa Gioiosa', 'Hotel Acquario', 'Hotel Pablo ', 'B&B Mille Ulivi']\n"
     ]
    }
   ],
   "source": [
    "print(names_molise)"
   ]
  },
  {
   "cell_type": "markdown",
   "metadata": {},
   "source": [
    "Finally, we can apply the function get_names to each entry in our region dictionary, and save the results as text files:"
   ]
  },
  {
   "cell_type": "code",
   "execution_count": 33,
   "metadata": {},
   "outputs": [],
   "source": [
    "# this will save one file for each region\n",
    "\n",
    "#for region in regions_dic.keys(): # cycle through region names in our dictionary\n",
    "    \n",
    "#    with open(region, \"w+\") as output_file: # write here, one file per region, then we can cat them all together\n",
    "        \n",
    "#        names = get_names(region, regions_dic[region]) # get results\n",
    "        \n",
    "#        for name in names: # cycle through names in get_names results\n",
    "            \n",
    "#            output_file.write(name+\"\\n\") # write to file together with EOL"
   ]
  }
 ],
 "metadata": {
  "kernelspec": {
   "display_name": "Python 3",
   "language": "python",
   "name": "python3"
  },
  "language_info": {
   "codemirror_mode": {
    "name": "ipython",
    "version": 3
   },
   "file_extension": ".py",
   "mimetype": "text/x-python",
   "name": "python",
   "nbconvert_exporter": "python",
   "pygments_lexer": "ipython3",
   "version": "3.5.2"
  }
 },
 "nbformat": 4,
 "nbformat_minor": 2
}
